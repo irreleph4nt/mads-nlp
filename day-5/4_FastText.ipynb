{
 "cells": [
  {
   "cell_type": "code",
   "execution_count": 1,
   "metadata": {},
   "outputs": [
    {
     "name": "stdout",
     "output_type": "stream",
     "text": [
      "Requirement already satisfied: fasttext in /home/user/.anaconda3/lib/python3.8/site-packages (0.9.2)\n",
      "Requirement already satisfied: setuptools>=0.7.0 in /home/user/.anaconda3/lib/python3.8/site-packages (from fasttext) (50.3.1.post20201107)\n",
      "Requirement already satisfied: numpy in /home/user/.anaconda3/lib/python3.8/site-packages (from fasttext) (1.19.2)\n",
      "Requirement already satisfied: pybind11>=2.2 in /home/user/.anaconda3/lib/python3.8/site-packages (from fasttext) (2.6.1)\n"
     ]
    }
   ],
   "source": [
    "!pip install fasttext --no-cache-dir"
   ]
  },
  {
   "cell_type": "code",
   "execution_count": 21,
   "metadata": {},
   "outputs": [
    {
     "name": "stderr",
     "output_type": "stream",
     "text": [
      "[nltk_data] Downloading package punkt to /home/user/nltk_data...\n",
      "[nltk_data]   Package punkt is already up-to-date!\n",
      "[nltk_data] Downloading package stopwords to /home/user/nltk_data...\n",
      "[nltk_data]   Package stopwords is already up-to-date!\n",
      "[nltk_data] Downloading package wordnet to /home/user/nltk_data...\n",
      "[nltk_data]   Package wordnet is already up-to-date!\n"
     ]
    },
    {
     "data": {
      "text/plain": [
       "True"
      ]
     },
     "execution_count": 21,
     "metadata": {},
     "output_type": "execute_result"
    }
   ],
   "source": [
    "import pandas as pd\n",
    "import numpy as np\n",
    "import fasttext\n",
    "import nltk\n",
    "import os\n",
    "from os import path\n",
    "from nltk.corpus import words\n",
    "from nltk.corpus import stopwords\n",
    "nltk.download('punkt')\n",
    "nltk.download('stopwords')\n",
    "nltk.download('wordnet')"
   ]
  },
  {
   "cell_type": "code",
   "execution_count": 8,
   "metadata": {},
   "outputs": [],
   "source": [
    "def lemmatise(text):\n",
    "\n",
    "    wn = nltk.WordNetLemmatizer()\n",
    "    stopwords = nltk.corpus.stopwords.words('english')\n",
    "    tokens = nltk.word_tokenize(text)\n",
    "    word_filter = [token for token in tokens if token not in stopwords and token.isalpha()]\n",
    "    lemma = [wn.lemmatize(token) for token in word_filter]\n",
    "\n",
    "    return \" \".join(lemma)"
   ]
  },
  {
   "cell_type": "code",
   "execution_count": 9,
   "metadata": {},
   "outputs": [],
   "source": [
    "X_train = pd.read_csv('train.csv')\n",
    "X_test = pd.read_csv('test.csv')"
   ]
  },
  {
   "cell_type": "code",
   "execution_count": 10,
   "metadata": {},
   "outputs": [
    {
     "name": "stdout",
     "output_type": "stream",
     "text": [
      "<class 'pandas.core.frame.DataFrame'>\n",
      "RangeIndex: 25000 entries, 0 to 24999\n",
      "Data columns (total 2 columns):\n",
      " #   Column  Non-Null Count  Dtype \n",
      "---  ------  --------------  ----- \n",
      " 0   text    25000 non-null  object\n",
      " 1   label   25000 non-null  int64 \n",
      "dtypes: int64(1), object(1)\n",
      "memory usage: 390.8+ KB\n",
      "None\n",
      "(25000, 2)\n",
      "                                                text  label\n",
      "0  bromwell high is a cartoon comedy it ran at th...      1\n",
      "1  homelessness or houselessness as george carlin...      1\n",
      "2  brilliant over acting by lesley ann warren bes...      1\n",
      "3  this is easily the most underrated film inn th...      1\n",
      "4  this is not the typical mel brooks film it was...      1\n"
     ]
    }
   ],
   "source": [
    "print(X_train.info())\n",
    "print(X_train.shape)\n",
    "print(X_train.head())"
   ]
  },
  {
   "cell_type": "code",
   "execution_count": 11,
   "metadata": {},
   "outputs": [],
   "source": [
    "X_train['lemmas'] = X_train['text'].apply(lemmatise)\n",
    "X_test['lemmas'] = X_test['text'].apply(lemmatise)"
   ]
  },
  {
   "cell_type": "code",
   "execution_count": 12,
   "metadata": {},
   "outputs": [
    {
     "data": {
      "text/plain": [
       "'first read armistead maupins story taken human drama displayed gabriel one care love said given film version excellent story expected see past gloss hollywood writer armistead maupin director patrick stettner truly succeeded right amount restraint robin williams capture fragile essence gabriel let u see struggle issue trust personnel life jess world around donna introduced player drama reminded nothing ever seems smallest event change life irrevocably request review book written young man turn life changing event help gabriel find strength within carry move forward bad people avoid film say average american probably think robin williams serious role work please give movie chance robin williams touch darkness must find go better people like movie one hour photo stepped actor made another quality piece art oh forget believe bobby cannavale jess steal every scene leading man look screen presence hack opinion could carry movie right'"
      ]
     },
     "execution_count": 12,
     "metadata": {},
     "output_type": "execute_result"
    }
   ],
   "source": [
    "X_train['lemmas'].iloc[10]"
   ]
  },
  {
   "cell_type": "markdown",
   "metadata": {},
   "source": [
    "**FastText**"
   ]
  },
  {
   "cell_type": "code",
   "execution_count": 15,
   "metadata": {},
   "outputs": [],
   "source": [
    "X_train['ft_label'] = X_train['label'].apply(lambda x: '__label__POSITIVE' if x == 1 else '__label__NEGATIVE')\n",
    "X_test['ft_label'] = X_test['label'].apply(lambda x: '__label__POSITIVE' if x == 1 else '__label__NEGATIVE')\n",
    "X_train['ft_text'] = X_train[['ft_label', 'lemmas']].apply(lambda x: ' '.join(x.map(str)), axis=1)\n",
    "X_test['ft_text'] = X_test[['ft_label', 'lemmas']].apply(lambda x: ' '.join(x.map(str)), axis=1)"
   ]
  },
  {
   "cell_type": "code",
   "execution_count": 17,
   "metadata": {},
   "outputs": [
    {
     "data": {
      "text/plain": [
       "'__label__POSITIVE comedic robin williams quirky insane robin williams recent thriller fame hybrid classic drama without dramatization mixed robin new love thriller thriller per se mystery suspense vehicle williams attempt locate sick boy keeper also starring sandra oh rory culkin suspense drama play pretty much like news report william character get close achieving goal must say highly entertained though movie fails teach guide inspect amuse felt like watching guy williams actually performing action third person perspective word felt real able subscribe premise story worth watch though definitely friday saturday night fare rate fiend'"
      ]
     },
     "execution_count": 17,
     "metadata": {},
     "output_type": "execute_result"
    }
   ],
   "source": [
    "X_train['ft_text'][5]"
   ]
  },
  {
   "cell_type": "code",
   "execution_count": 28,
   "metadata": {},
   "outputs": [],
   "source": [
    "X_train['ft_text'].to_csv('X_train.txt', header=False, index=False, sep='\\t')\n",
    "X_test['ft_text'].to_csv('X_test.txt', header=False, index=False, sep='\\t')"
   ]
  },
  {
   "cell_type": "code",
   "execution_count": 30,
   "metadata": {},
   "outputs": [],
   "source": [
    "model = fasttext.train_supervised(input=\"X_train.txt\")"
   ]
  },
  {
   "cell_type": "code",
   "execution_count": 31,
   "metadata": {},
   "outputs": [
    {
     "data": {
      "text/plain": [
       "(25000, 0.8584, 0.8584)"
      ]
     },
     "execution_count": 31,
     "metadata": {},
     "output_type": "execute_result"
    }
   ],
   "source": [
    "model.test(\"X_test.txt\")"
   ]
  },
  {
   "cell_type": "code",
   "execution_count": 42,
   "metadata": {},
   "outputs": [],
   "source": [
    "model_cust = fasttext.train_supervised(input=\"X_train.txt\", lr=1.0, epoch=25, wordNgrams=3)"
   ]
  },
  {
   "cell_type": "code",
   "execution_count": 43,
   "metadata": {},
   "outputs": [
    {
     "data": {
      "text/plain": [
       "(25000, 0.884, 0.884)"
      ]
     },
     "execution_count": 43,
     "metadata": {},
     "output_type": "execute_result"
    }
   ],
   "source": [
    "model_cust.test(\"X_test.txt\")"
   ]
  },
  {
   "cell_type": "code",
   "execution_count": null,
   "metadata": {},
   "outputs": [],
   "source": []
  }
 ],
 "metadata": {
  "kernelspec": {
   "display_name": "Python 3",
   "language": "python",
   "name": "python3"
  },
  "language_info": {
   "codemirror_mode": {
    "name": "ipython",
    "version": 3
   },
   "file_extension": ".py",
   "mimetype": "text/x-python",
   "name": "python",
   "nbconvert_exporter": "python",
   "pygments_lexer": "ipython3",
   "version": "3.8.5"
  }
 },
 "nbformat": 4,
 "nbformat_minor": 4
}
