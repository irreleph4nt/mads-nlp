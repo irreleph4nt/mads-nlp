{
 "cells": [
  {
   "cell_type": "code",
   "execution_count": 1,
   "metadata": {},
   "outputs": [],
   "source": [
    "import shutil\n",
    "import urllib.request\n",
    "import os\n",
    "import pandas as pd\n",
    "import numpy as np\n",
    "import re\n",
    "from bs4 import BeautifulSoup"
   ]
  },
  {
   "cell_type": "code",
   "execution_count": 2,
   "metadata": {},
   "outputs": [],
   "source": [
    "def html_cleaner(text):\n",
    "    text = re.sub('<[^>]*>', '', text)\n",
    "    emoticons = re.findall('(?::|;|=)(?:-)?(?:\\)|\\(|D|P)', text)\n",
    "    text = re.sub('[\\W]+', ' ', text.lower()) + ' '.join(emoticons).replace('-', '')\n",
    "    text = re.sub(r'https*\\S+', ' ', text)\n",
    "    text = re.sub(r'@\\S+', ' ', text)\n",
    "    text = BeautifulSoup(text,\"lxml\").get_text()\n",
    "    \n",
    "    return text"
   ]
  },
  {
   "cell_type": "code",
   "execution_count": 3,
   "metadata": {},
   "outputs": [],
   "source": [
    "redownload = False\n",
    "reextract = False\n",
    "\n",
    "url = 'https://ai.stanford.edu/~amaas/data/sentiment/aclImdb_v1.tar.gz'\n",
    "filename = 'aclImdb_v1.tar.gz'\n",
    "\n",
    "if(redownload == True and reextract == True):\n",
    "    urllib.request.urlretrieve(url, filename)\n",
    "    shutil.unpack_archive(filename, \"\")"
   ]
  },
  {
   "cell_type": "code",
   "execution_count": 4,
   "metadata": {},
   "outputs": [],
   "source": [
    "path = \"aclImdb/train/pos/\"\n",
    "temp = []\n",
    "for file in os.listdir(path):\n",
    "    with open(os.path.join(path + file), \"r\", encoding='utf-8') as f:\n",
    "        temp.append(f.readlines())\n",
    "train_pos = pd.DataFrame({\"text\": temp, \"label\": 1})"
   ]
  },
  {
   "cell_type": "code",
   "execution_count": 5,
   "metadata": {},
   "outputs": [
    {
     "data": {
      "text/html": [
       "<div>\n",
       "<style scoped>\n",
       "    .dataframe tbody tr th:only-of-type {\n",
       "        vertical-align: middle;\n",
       "    }\n",
       "\n",
       "    .dataframe tbody tr th {\n",
       "        vertical-align: top;\n",
       "    }\n",
       "\n",
       "    .dataframe thead th {\n",
       "        text-align: right;\n",
       "    }\n",
       "</style>\n",
       "<table border=\"1\" class=\"dataframe\">\n",
       "  <thead>\n",
       "    <tr style=\"text-align: right;\">\n",
       "      <th></th>\n",
       "      <th>text</th>\n",
       "      <th>label</th>\n",
       "    </tr>\n",
       "  </thead>\n",
       "  <tbody>\n",
       "    <tr>\n",
       "      <th>0</th>\n",
       "      <td>[Bromwell High is a cartoon comedy. It ran at ...</td>\n",
       "      <td>1</td>\n",
       "    </tr>\n",
       "    <tr>\n",
       "      <th>1</th>\n",
       "      <td>[Homelessness (or Houselessness as George Carl...</td>\n",
       "      <td>1</td>\n",
       "    </tr>\n",
       "    <tr>\n",
       "      <th>2</th>\n",
       "      <td>[Brilliant over-acting by Lesley Ann Warren. B...</td>\n",
       "      <td>1</td>\n",
       "    </tr>\n",
       "    <tr>\n",
       "      <th>3</th>\n",
       "      <td>[This is easily the most underrated film inn t...</td>\n",
       "      <td>1</td>\n",
       "    </tr>\n",
       "    <tr>\n",
       "      <th>4</th>\n",
       "      <td>[This is not the typical Mel Brooks film. It w...</td>\n",
       "      <td>1</td>\n",
       "    </tr>\n",
       "  </tbody>\n",
       "</table>\n",
       "</div>"
      ],
      "text/plain": [
       "                                                text  label\n",
       "0  [Bromwell High is a cartoon comedy. It ran at ...      1\n",
       "1  [Homelessness (or Houselessness as George Carl...      1\n",
       "2  [Brilliant over-acting by Lesley Ann Warren. B...      1\n",
       "3  [This is easily the most underrated film inn t...      1\n",
       "4  [This is not the typical Mel Brooks film. It w...      1"
      ]
     },
     "execution_count": 5,
     "metadata": {},
     "output_type": "execute_result"
    }
   ],
   "source": [
    "train_pos.head()"
   ]
  },
  {
   "cell_type": "code",
   "execution_count": 6,
   "metadata": {},
   "outputs": [],
   "source": [
    "path = \"aclImdb/train/neg/\"\n",
    "temp = []\n",
    "for file in os.listdir(path):\n",
    "    with open(os.path.join(path + file), \"r\", encoding='utf-8') as f:\n",
    "        temp.append(f.readlines())\n",
    "train_neg = pd.DataFrame({\"text\": temp, \"label\": 0})"
   ]
  },
  {
   "cell_type": "code",
   "execution_count": 7,
   "metadata": {},
   "outputs": [
    {
     "data": {
      "text/html": [
       "<div>\n",
       "<style scoped>\n",
       "    .dataframe tbody tr th:only-of-type {\n",
       "        vertical-align: middle;\n",
       "    }\n",
       "\n",
       "    .dataframe tbody tr th {\n",
       "        vertical-align: top;\n",
       "    }\n",
       "\n",
       "    .dataframe thead th {\n",
       "        text-align: right;\n",
       "    }\n",
       "</style>\n",
       "<table border=\"1\" class=\"dataframe\">\n",
       "  <thead>\n",
       "    <tr style=\"text-align: right;\">\n",
       "      <th></th>\n",
       "      <th>text</th>\n",
       "      <th>label</th>\n",
       "    </tr>\n",
       "  </thead>\n",
       "  <tbody>\n",
       "    <tr>\n",
       "      <th>0</th>\n",
       "      <td>[Story of a man who has unnatural feelings for...</td>\n",
       "      <td>0</td>\n",
       "    </tr>\n",
       "    <tr>\n",
       "      <th>1</th>\n",
       "      <td>[Airport '77 starts as a brand new luxury 747 ...</td>\n",
       "      <td>0</td>\n",
       "    </tr>\n",
       "    <tr>\n",
       "      <th>2</th>\n",
       "      <td>[This film lacked something I couldn't put my ...</td>\n",
       "      <td>0</td>\n",
       "    </tr>\n",
       "    <tr>\n",
       "      <th>3</th>\n",
       "      <td>[Sorry everyone,,, I know this is supposed to ...</td>\n",
       "      <td>0</td>\n",
       "    </tr>\n",
       "    <tr>\n",
       "      <th>4</th>\n",
       "      <td>[When I was little my parents took me along to...</td>\n",
       "      <td>0</td>\n",
       "    </tr>\n",
       "  </tbody>\n",
       "</table>\n",
       "</div>"
      ],
      "text/plain": [
       "                                                text  label\n",
       "0  [Story of a man who has unnatural feelings for...      0\n",
       "1  [Airport '77 starts as a brand new luxury 747 ...      0\n",
       "2  [This film lacked something I couldn't put my ...      0\n",
       "3  [Sorry everyone,,, I know this is supposed to ...      0\n",
       "4  [When I was little my parents took me along to...      0"
      ]
     },
     "execution_count": 7,
     "metadata": {},
     "output_type": "execute_result"
    }
   ],
   "source": [
    "train_neg.head()"
   ]
  },
  {
   "cell_type": "code",
   "execution_count": 8,
   "metadata": {},
   "outputs": [],
   "source": [
    "path = \"aclImdb/train/unsup/\"\n",
    "temp = []\n",
    "for file in os.listdir(path):\n",
    "    with open(os.path.join(path + file), \"r\", encoding='utf-8') as f:\n",
    "        temp.append(f.readlines())\n",
    "df_unlabeled = pd.DataFrame({\"text\": temp})"
   ]
  },
  {
   "cell_type": "code",
   "execution_count": 9,
   "metadata": {},
   "outputs": [
    {
     "data": {
      "text/html": [
       "<div>\n",
       "<style scoped>\n",
       "    .dataframe tbody tr th:only-of-type {\n",
       "        vertical-align: middle;\n",
       "    }\n",
       "\n",
       "    .dataframe tbody tr th {\n",
       "        vertical-align: top;\n",
       "    }\n",
       "\n",
       "    .dataframe thead th {\n",
       "        text-align: right;\n",
       "    }\n",
       "</style>\n",
       "<table border=\"1\" class=\"dataframe\">\n",
       "  <thead>\n",
       "    <tr style=\"text-align: right;\">\n",
       "      <th></th>\n",
       "      <th>text</th>\n",
       "    </tr>\n",
       "  </thead>\n",
       "  <tbody>\n",
       "    <tr>\n",
       "      <th>0</th>\n",
       "      <td>[I admit, the great majority of films released...</td>\n",
       "    </tr>\n",
       "    <tr>\n",
       "      <th>1</th>\n",
       "      <td>[Take a low budget, inexperienced actors doubl...</td>\n",
       "    </tr>\n",
       "    <tr>\n",
       "      <th>2</th>\n",
       "      <td>[Everybody has seen 'Back To The Future,' righ...</td>\n",
       "    </tr>\n",
       "    <tr>\n",
       "      <th>3</th>\n",
       "      <td>[Doris Day was an icon of beauty in singing an...</td>\n",
       "    </tr>\n",
       "    <tr>\n",
       "      <th>4</th>\n",
       "      <td>[After a series of silly, fun-loving movies, 1...</td>\n",
       "    </tr>\n",
       "  </tbody>\n",
       "</table>\n",
       "</div>"
      ],
      "text/plain": [
       "                                                text\n",
       "0  [I admit, the great majority of films released...\n",
       "1  [Take a low budget, inexperienced actors doubl...\n",
       "2  [Everybody has seen 'Back To The Future,' righ...\n",
       "3  [Doris Day was an icon of beauty in singing an...\n",
       "4  [After a series of silly, fun-loving movies, 1..."
      ]
     },
     "execution_count": 9,
     "metadata": {},
     "output_type": "execute_result"
    }
   ],
   "source": [
    "df_unlabeled.head()"
   ]
  },
  {
   "cell_type": "code",
   "execution_count": 10,
   "metadata": {},
   "outputs": [],
   "source": [
    "path = \"aclImdb/test/pos/\"\n",
    "temp = []\n",
    "for file in os.listdir(path):\n",
    "    with open(os.path.join(path + file), \"r\", encoding='utf-8') as f:\n",
    "        temp.append(f.readlines())\n",
    "test_pos = pd.DataFrame({\"text\": temp, \"label\": 1})"
   ]
  },
  {
   "cell_type": "code",
   "execution_count": 11,
   "metadata": {},
   "outputs": [
    {
     "data": {
      "text/html": [
       "<div>\n",
       "<style scoped>\n",
       "    .dataframe tbody tr th:only-of-type {\n",
       "        vertical-align: middle;\n",
       "    }\n",
       "\n",
       "    .dataframe tbody tr th {\n",
       "        vertical-align: top;\n",
       "    }\n",
       "\n",
       "    .dataframe thead th {\n",
       "        text-align: right;\n",
       "    }\n",
       "</style>\n",
       "<table border=\"1\" class=\"dataframe\">\n",
       "  <thead>\n",
       "    <tr style=\"text-align: right;\">\n",
       "      <th></th>\n",
       "      <th>text</th>\n",
       "      <th>label</th>\n",
       "    </tr>\n",
       "  </thead>\n",
       "  <tbody>\n",
       "    <tr>\n",
       "      <th>0</th>\n",
       "      <td>[I went and saw this movie last night after be...</td>\n",
       "      <td>1</td>\n",
       "    </tr>\n",
       "    <tr>\n",
       "      <th>1</th>\n",
       "      <td>[Actor turned director Bill Paxton follows up ...</td>\n",
       "      <td>1</td>\n",
       "    </tr>\n",
       "    <tr>\n",
       "      <th>2</th>\n",
       "      <td>[As a recreational golfer with some knowledge ...</td>\n",
       "      <td>1</td>\n",
       "    </tr>\n",
       "    <tr>\n",
       "      <th>3</th>\n",
       "      <td>[I saw this film in a sneak preview, and it is...</td>\n",
       "      <td>1</td>\n",
       "    </tr>\n",
       "    <tr>\n",
       "      <th>4</th>\n",
       "      <td>[Bill Paxton has taken the true story of the 1...</td>\n",
       "      <td>1</td>\n",
       "    </tr>\n",
       "  </tbody>\n",
       "</table>\n",
       "</div>"
      ],
      "text/plain": [
       "                                                text  label\n",
       "0  [I went and saw this movie last night after be...      1\n",
       "1  [Actor turned director Bill Paxton follows up ...      1\n",
       "2  [As a recreational golfer with some knowledge ...      1\n",
       "3  [I saw this film in a sneak preview, and it is...      1\n",
       "4  [Bill Paxton has taken the true story of the 1...      1"
      ]
     },
     "execution_count": 11,
     "metadata": {},
     "output_type": "execute_result"
    }
   ],
   "source": [
    "test_pos.head()"
   ]
  },
  {
   "cell_type": "code",
   "execution_count": 12,
   "metadata": {},
   "outputs": [],
   "source": [
    "path = \"aclImdb/test/neg/\"\n",
    "temp = []\n",
    "for file in os.listdir(path):\n",
    "    with open(os.path.join(path + file), \"r\", encoding='utf-8') as f:\n",
    "        temp.append(f.readlines())\n",
    "test_neg = pd.DataFrame({\"text\": temp, \"label\": 0})"
   ]
  },
  {
   "cell_type": "code",
   "execution_count": 13,
   "metadata": {},
   "outputs": [
    {
     "data": {
      "text/html": [
       "<div>\n",
       "<style scoped>\n",
       "    .dataframe tbody tr th:only-of-type {\n",
       "        vertical-align: middle;\n",
       "    }\n",
       "\n",
       "    .dataframe tbody tr th {\n",
       "        vertical-align: top;\n",
       "    }\n",
       "\n",
       "    .dataframe thead th {\n",
       "        text-align: right;\n",
       "    }\n",
       "</style>\n",
       "<table border=\"1\" class=\"dataframe\">\n",
       "  <thead>\n",
       "    <tr style=\"text-align: right;\">\n",
       "      <th></th>\n",
       "      <th>text</th>\n",
       "      <th>label</th>\n",
       "    </tr>\n",
       "  </thead>\n",
       "  <tbody>\n",
       "    <tr>\n",
       "      <th>0</th>\n",
       "      <td>[Once again Mr. Costner has dragged out a movi...</td>\n",
       "      <td>0</td>\n",
       "    </tr>\n",
       "    <tr>\n",
       "      <th>1</th>\n",
       "      <td>[This is an example of why the majority of act...</td>\n",
       "      <td>0</td>\n",
       "    </tr>\n",
       "    <tr>\n",
       "      <th>2</th>\n",
       "      <td>[First of all I hate those moronic rappers, wh...</td>\n",
       "      <td>0</td>\n",
       "    </tr>\n",
       "    <tr>\n",
       "      <th>3</th>\n",
       "      <td>[Not even the Beatles could write songs everyo...</td>\n",
       "      <td>0</td>\n",
       "    </tr>\n",
       "    <tr>\n",
       "      <th>4</th>\n",
       "      <td>[Brass pictures (movies is not a fitting word ...</td>\n",
       "      <td>0</td>\n",
       "    </tr>\n",
       "  </tbody>\n",
       "</table>\n",
       "</div>"
      ],
      "text/plain": [
       "                                                text  label\n",
       "0  [Once again Mr. Costner has dragged out a movi...      0\n",
       "1  [This is an example of why the majority of act...      0\n",
       "2  [First of all I hate those moronic rappers, wh...      0\n",
       "3  [Not even the Beatles could write songs everyo...      0\n",
       "4  [Brass pictures (movies is not a fitting word ...      0"
      ]
     },
     "execution_count": 13,
     "metadata": {},
     "output_type": "execute_result"
    }
   ],
   "source": [
    "test_neg.head()"
   ]
  },
  {
   "cell_type": "code",
   "execution_count": 14,
   "metadata": {},
   "outputs": [],
   "source": [
    "df_train = train_pos.append(train_neg)\n",
    "df_test = test_pos.append(test_neg)"
   ]
  },
  {
   "cell_type": "code",
   "execution_count": 15,
   "metadata": {},
   "outputs": [
    {
     "name": "stdout",
     "output_type": "stream",
     "text": [
      "(25000, 2)\n",
      "(25000, 2)\n",
      "(50000, 1)\n"
     ]
    }
   ],
   "source": [
    "print(df_train.shape)\n",
    "print(df_test.shape)\n",
    "print(df_unlabeled.shape)"
   ]
  },
  {
   "cell_type": "code",
   "execution_count": 16,
   "metadata": {},
   "outputs": [
    {
     "data": {
      "text/plain": [
       "0    [Bromwell High is a cartoon comedy. It ran at ...\n",
       "1    [Homelessness (or Houselessness as George Carl...\n",
       "2    [Brilliant over-acting by Lesley Ann Warren. B...\n",
       "3    [This is easily the most underrated film inn t...\n",
       "4    [This is not the typical Mel Brooks film. It w...\n",
       "5    [This isn't the comedic Robin Williams, nor is...\n",
       "6    [Yes its an art... to successfully make a slow...\n",
       "7    [In this \"critically acclaimed psychological t...\n",
       "8    [THE NIGHT LISTENER (2006) **1/2 Robin William...\n",
       "9    [You know, Robin Williams, God bless him, is c...\n",
       "Name: text, dtype: object"
      ]
     },
     "execution_count": 16,
     "metadata": {},
     "output_type": "execute_result"
    }
   ],
   "source": [
    "df_train['text'][:10]"
   ]
  },
  {
   "cell_type": "code",
   "execution_count": 17,
   "metadata": {},
   "outputs": [
    {
     "data": {
      "text/plain": [
       "0    [I went and saw this movie last night after be...\n",
       "1    [Actor turned director Bill Paxton follows up ...\n",
       "2    [As a recreational golfer with some knowledge ...\n",
       "3    [I saw this film in a sneak preview, and it is...\n",
       "4    [Bill Paxton has taken the true story of the 1...\n",
       "5    [I saw this film on September 1st, 2005 in Ind...\n",
       "6    [Maybe I'm reading into this too much, but I w...\n",
       "7    [I felt this film did have many good qualities...\n",
       "8    [This movie is amazing because the fact that t...\n",
       "9    [\"Quitting\" may be as much about exiting a pre...\n",
       "Name: text, dtype: object"
      ]
     },
     "execution_count": 17,
     "metadata": {},
     "output_type": "execute_result"
    }
   ],
   "source": [
    "df_test['text'][:10]"
   ]
  },
  {
   "cell_type": "code",
   "execution_count": 18,
   "metadata": {},
   "outputs": [
    {
     "data": {
      "text/plain": [
       "0    [I admit, the great majority of films released...\n",
       "1    [Take a low budget, inexperienced actors doubl...\n",
       "2    [Everybody has seen 'Back To The Future,' righ...\n",
       "3    [Doris Day was an icon of beauty in singing an...\n",
       "4    [After a series of silly, fun-loving movies, 1...\n",
       "5    [This isn't exactly a musical, but it almost s...\n",
       "6    [After seven years and seventeen pictures at W...\n",
       "7    [In the 1950's there were many film boigraphie...\n",
       "8    [MY RATING- 7.3<br /><br />This one is a curio...\n",
       "9    [Doris Day and James Cagney are excellent in t...\n",
       "Name: text, dtype: object"
      ]
     },
     "execution_count": 18,
     "metadata": {},
     "output_type": "execute_result"
    }
   ],
   "source": [
    "df_unlabeled['text'][:10]"
   ]
  },
  {
   "cell_type": "code",
   "execution_count": 19,
   "metadata": {},
   "outputs": [],
   "source": [
    "df_train['text'] = df_train['text'].fillna('').apply(str)\n",
    "df_test['text'] = df_test['text'].fillna('').apply(str)\n",
    "df_unlabeled['text'] = df_unlabeled['text'].fillna('').apply(str)\n",
    "\n",
    "df_train['text'] = df_train['text'].apply(lambda text: html_cleaner(text))\n",
    "df_test['text'] = df_test['text'].apply(lambda text: html_cleaner(text))\n",
    "df_unlabeled['text'] = df_unlabeled['text'].apply(lambda text: html_cleaner(text))"
   ]
  },
  {
   "cell_type": "code",
   "execution_count": 20,
   "metadata": {},
   "outputs": [
    {
     "data": {
      "text/plain": [
       "0    bromwell high is a cartoon comedy it ran at th...\n",
       "1    homelessness or houselessness as george carlin...\n",
       "2    brilliant over acting by lesley ann warren bes...\n",
       "3    this is easily the most underrated film inn th...\n",
       "4    this is not the typical mel brooks film it was...\n",
       "5    this isn t the comedic robin williams nor is i...\n",
       "6    yes its an art to successfully make a slow pac...\n",
       "7    in this critically acclaimed psychological thr...\n",
       "8    the night listener 2006 1 2 robin williams ton...\n",
       "9    you know robin williams god bless him is const...\n",
       "Name: text, dtype: object"
      ]
     },
     "execution_count": 20,
     "metadata": {},
     "output_type": "execute_result"
    }
   ],
   "source": [
    "df_train['text'][:10]"
   ]
  },
  {
   "cell_type": "code",
   "execution_count": 21,
   "metadata": {},
   "outputs": [
    {
     "data": {
      "text/plain": [
       "0    i went and saw this movie last night after bei...\n",
       "1    actor turned director bill paxton follows up h...\n",
       "2    as a recreational golfer with some knowledge o...\n",
       "3    i saw this film in a sneak preview and it is d...\n",
       "4    bill paxton has taken the true story of the 19...\n",
       "5    i saw this film on september 1st 2005 in india...\n",
       "6    maybe i m reading into this too much but i won...\n",
       "7    i felt this film did have many good qualities ...\n",
       "8    this movie is amazing because the fact that th...\n",
       "9    quitting may be as much about exiting a pre or...\n",
       "Name: text, dtype: object"
      ]
     },
     "execution_count": 21,
     "metadata": {},
     "output_type": "execute_result"
    }
   ],
   "source": [
    "df_test['text'][:10]"
   ]
  },
  {
   "cell_type": "code",
   "execution_count": 22,
   "metadata": {},
   "outputs": [
    {
     "data": {
      "text/plain": [
       "0    i admit the great majority of films released b...\n",
       "1    take a low budget inexperienced actors doublin...\n",
       "2    everybody has seen back to the future right wh...\n",
       "3    doris day was an icon of beauty in singing and...\n",
       "4    after a series of silly fun loving movies 1955...\n",
       "5    this isn t exactly a musical but it almost see...\n",
       "6    after seven years and seventeen pictures at wa...\n",
       "7    in the 1950 s there were many film boigraphies...\n",
       "8    my rating 7 3this one is a curious mov made wh...\n",
       "9    doris day and james cagney are excellent in th...\n",
       "Name: text, dtype: object"
      ]
     },
     "execution_count": 22,
     "metadata": {},
     "output_type": "execute_result"
    }
   ],
   "source": [
    "df_unlabeled['text'][:10]"
   ]
  },
  {
   "cell_type": "code",
   "execution_count": 23,
   "metadata": {},
   "outputs": [],
   "source": [
    "df_train.to_csv('train.csv', index=False)\n",
    "df_unlabeled.to_csv('unlabeled.csv', index=False)\n",
    "\n",
    "df_test.to_csv('test.csv', index=False)"
   ]
  },
  {
   "cell_type": "markdown",
   "metadata": {},
   "source": [
    "**REFS:**\n",
    "\n",
    "https://pandas.pydata.org/pandas-docs/stable/user_guide/merging.html\n",
    "https://github.com/sgrvinod/Sentiment-Analysis-on-IMDb-Reviews/blob/master/IMDb-DV.py\n",
    "https://www.tensorflow.org/hub/tutorials/tf2_text_classification\n",
    "https://colab.research.google.com/github/tensorflow/datasets/blob/master/docs/overview.ipynb?hl=fr#scrollTo=FKouwN_yVSGQ\n",
    "https://arxiv.org/ftp/arxiv/papers/1806/1806.06407.pdf\n",
    "https://nminnie.github.io/pdf/Sentiment-analysis.pdf\n",
    "https://github.com/AjeetSingh02/Overview_of_NLP/blob/master/sentimentClassification.ipynb\n",
    "https://towardsdatascience.com/imdb-reviews-or-8143fe57c825\n",
    "\n",
    "https://www.kaggle.com/onadegibert/sentiment-analysis-with-tfidf-and-random-forest\n",
    "\n",
    "https://www.kaggle.com/kyen89/1-sentiment-analysis-tf-idf\n",
    "\n",
    "https://medium.com/dataseries/sentiment-classifier-using-tfidf-3ffce3f1cbd5\n",
    "\n",
    "https://gist.github.com/ameyavilankar/10347201"
   ]
  },
  {
   "cell_type": "code",
   "execution_count": null,
   "metadata": {},
   "outputs": [],
   "source": []
  }
 ],
 "metadata": {
  "kernelspec": {
   "display_name": "Python 3",
   "language": "python",
   "name": "python3"
  },
  "language_info": {
   "codemirror_mode": {
    "name": "ipython",
    "version": 3
   },
   "file_extension": ".py",
   "mimetype": "text/x-python",
   "name": "python",
   "nbconvert_exporter": "python",
   "pygments_lexer": "ipython3",
   "version": "3.7.6"
  }
 },
 "nbformat": 4,
 "nbformat_minor": 4
}
